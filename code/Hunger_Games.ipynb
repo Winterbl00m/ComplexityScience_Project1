{
  "nbformat": 4,
  "nbformat_minor": 0,
  "metadata": {
    "colab": {
      "name": "Hunger Games.ipynb",
      "provenance": [],
      "collapsed_sections": []
    },
    "kernelspec": {
      "name": "python3",
      "display_name": "Python 3"
    },
    "language_info": {
      "name": "python"
    }
  },
  "cells": [
    {
      "cell_type": "markdown",
      "metadata": {
        "id": "qip7rxBeBvR3"
      },
      "source": [
        "- Create a BA graph with 300 nodes\n",
        "- Assign each player(node) a marksmanship, “which can take on one of the three possible values: [0.5, 0.8, 1]. Marksmanship levels are randomly distributed in the network with equal initial proportions.”\n",
        "- “At each step in the game: one node is chosen randomly. \n",
        "\t- This chosen player, in turn, randomly selects two opponents among his neighbour nodes, and the three players play a sequential truel with a fixed shooting order. \n",
        "\t- However, if the initially chosen player has only one neighbour, a duel occurs. \n",
        "\t- Moreover, players are assumed to be rational (i.e., they strictly follow the strongest opponent strategy but never aim at a player of the same type). \n",
        "\t- Finally, the losers of either a truel or a duel are removed from the network, and if a node has no neighbours left, it will be reattached to the network along the lines of the preferential-attachment algorithm that was used to create the scale-free network.\n",
        "\t- In the unlikely event that no strongest player exists because all players chosen have the same level of marksmanship, no duel or truel will be played. In this case, a new node and its neighbours will be randomly selected to continue the game.”\n",
        "- The program will iterate until no more duels or truels can be played under these rules\n",
        "\n"
      ]
    },
    {
      "cell_type": "code",
      "metadata": {
        "id": "MddiaPMDD0ea"
      },
      "source": [
        "import matplotlib.pyplot as plt\n",
        "import networkx as nx\n",
        "import numpy as np\n",
        "import seaborn as sns"
      ],
      "execution_count": null,
      "outputs": []
    },
    {
      "cell_type": "code",
      "metadata": {
        "id": "GJdSlLsDuBif"
      },
      "source": [
        "# modified version of the NetworkX implementation from\n",
        "# https://github.com/networkx/networkx/blob/master/networkx/generators/random_graphs.py\n",
        "# by Allen Downey\n",
        "import random\n",
        "\n",
        "def barabasi_albert_graph(n, k, seed=None):\n",
        "    \"\"\"Constructs a BA graph.\n",
        "    \n",
        "    n: number of nodes\n",
        "    k: number of edges for each new node\n",
        "    seed: random seen\n",
        "    \"\"\"\n",
        "    if seed is not None:\n",
        "        random.seed(seed)\n",
        "    \n",
        "    G = nx.empty_graph(k)\n",
        "    targets = set(range(k))\n",
        "    repeated_nodes = []\n",
        "\n",
        "    for source in range(k, n):\n",
        "\n",
        "        G.add_edges_from(zip([source]*k, targets))\n",
        "\n",
        "        repeated_nodes.extend(targets)\n",
        "        repeated_nodes.extend([source] * k)\n",
        "\n",
        "        targets = _random_subset(repeated_nodes, k)\n",
        "\n",
        "    return G"
      ],
      "execution_count": null,
      "outputs": []
    },
    {
      "cell_type": "code",
      "metadata": {
        "id": "CzrxivyMD-ac"
      },
      "source": [
        "def _random_subset(repeated_nodes, k):\n",
        "    \"\"\"Select a random subset of nodes without repeating.\n",
        "    \n",
        "    repeated_nodes: list of nodes\n",
        "    k: size of set\n",
        "    \n",
        "    returns: set of nodes\n",
        "    \"\"\"\n",
        "    targets = set()\n",
        "    while len(targets) < k:\n",
        "        x = random.choice(repeated_nodes)\n",
        "        targets.add(x)\n",
        "    return targets"
      ],
      "execution_count": null,
      "outputs": []
    },
    {
      "cell_type": "code",
      "metadata": {
        "id": "er2rH1RnO-jL"
      },
      "source": [
        "def flip(p):\n",
        "    return np.random.random() < p"
      ],
      "execution_count": null,
      "outputs": []
    },
    {
      "cell_type": "markdown",
      "metadata": {
        "id": "pC5pgn7iQTTq"
      },
      "source": [
        "Code below assigns marksmanships to each player and show that it works."
      ]
    },
    {
      "cell_type": "code",
      "metadata": {
        "id": "iCO9AkeUxNpp"
      },
      "source": [
        "def assign_marksmanships(G):\n",
        "  marksmanships = [0.5, 0.8, 1]\n",
        "  for node in G.nodes():\n",
        "    G.nodes[node][\"marksmanship\"] = random.choice(marksmanships)"
      ],
      "execution_count": null,
      "outputs": []
    },
    {
      "cell_type": "code",
      "metadata": {
        "colab": {
          "base_uri": "https://localhost:8080/"
        },
        "id": "qQa1nA4fxW92",
        "outputId": "9d88d476-79ac-45d8-b92e-3daec8d1a7a8"
      },
      "source": [
        "G = barabasi_albert_graph(n = 300, k =10)\n",
        "assign_marksmanships(G)\n",
        "\n",
        "print(G.nodes.data())"
      ],
      "execution_count": null,
      "outputs": [
        {
          "output_type": "stream",
          "name": "stdout",
          "text": [
            "[(0, {'marksmanship': 0.5}), (1, {'marksmanship': 1}), (2, {'marksmanship': 0.8}), (3, {'marksmanship': 0.8}), (4, {'marksmanship': 0.5}), (5, {'marksmanship': 0.8}), (6, {'marksmanship': 1}), (7, {'marksmanship': 0.5}), (8, {'marksmanship': 1}), (9, {'marksmanship': 1}), (10, {'marksmanship': 0.8}), (11, {'marksmanship': 1}), (12, {'marksmanship': 1}), (13, {'marksmanship': 0.8}), (14, {'marksmanship': 0.8}), (15, {'marksmanship': 0.5}), (16, {'marksmanship': 0.8}), (17, {'marksmanship': 0.5}), (18, {'marksmanship': 1}), (19, {'marksmanship': 0.8}), (20, {'marksmanship': 0.8}), (21, {'marksmanship': 0.8}), (22, {'marksmanship': 0.8}), (23, {'marksmanship': 0.8}), (24, {'marksmanship': 0.5}), (25, {'marksmanship': 0.8}), (26, {'marksmanship': 0.5}), (27, {'marksmanship': 1}), (28, {'marksmanship': 0.8}), (29, {'marksmanship': 0.5}), (30, {'marksmanship': 0.5}), (31, {'marksmanship': 0.5}), (32, {'marksmanship': 0.5}), (33, {'marksmanship': 1}), (34, {'marksmanship': 0.8}), (35, {'marksmanship': 0.8}), (36, {'marksmanship': 0.8}), (37, {'marksmanship': 1}), (38, {'marksmanship': 0.8}), (39, {'marksmanship': 0.5}), (40, {'marksmanship': 1}), (41, {'marksmanship': 1}), (42, {'marksmanship': 1}), (43, {'marksmanship': 1}), (44, {'marksmanship': 1}), (45, {'marksmanship': 1}), (46, {'marksmanship': 0.8}), (47, {'marksmanship': 0.5}), (48, {'marksmanship': 0.8}), (49, {'marksmanship': 0.8}), (50, {'marksmanship': 0.5}), (51, {'marksmanship': 0.5}), (52, {'marksmanship': 0.8}), (53, {'marksmanship': 0.5}), (54, {'marksmanship': 0.8}), (55, {'marksmanship': 1}), (56, {'marksmanship': 0.5}), (57, {'marksmanship': 0.5}), (58, {'marksmanship': 0.5}), (59, {'marksmanship': 0.5}), (60, {'marksmanship': 0.8}), (61, {'marksmanship': 1}), (62, {'marksmanship': 1}), (63, {'marksmanship': 0.5}), (64, {'marksmanship': 0.8}), (65, {'marksmanship': 1}), (66, {'marksmanship': 1}), (67, {'marksmanship': 0.8}), (68, {'marksmanship': 0.8}), (69, {'marksmanship': 1}), (70, {'marksmanship': 0.5}), (71, {'marksmanship': 0.5}), (72, {'marksmanship': 0.8}), (73, {'marksmanship': 0.8}), (74, {'marksmanship': 1}), (75, {'marksmanship': 0.8}), (76, {'marksmanship': 0.5}), (77, {'marksmanship': 0.8}), (78, {'marksmanship': 1}), (79, {'marksmanship': 0.5}), (80, {'marksmanship': 1}), (81, {'marksmanship': 0.5}), (82, {'marksmanship': 0.5}), (83, {'marksmanship': 0.5}), (84, {'marksmanship': 1}), (85, {'marksmanship': 0.5}), (86, {'marksmanship': 1}), (87, {'marksmanship': 0.5}), (88, {'marksmanship': 0.8}), (89, {'marksmanship': 0.5}), (90, {'marksmanship': 0.8}), (91, {'marksmanship': 0.5}), (92, {'marksmanship': 1}), (93, {'marksmanship': 0.8}), (94, {'marksmanship': 0.8}), (95, {'marksmanship': 1}), (96, {'marksmanship': 0.8}), (97, {'marksmanship': 0.5}), (98, {'marksmanship': 0.5}), (99, {'marksmanship': 0.8}), (100, {'marksmanship': 0.5}), (101, {'marksmanship': 0.5}), (102, {'marksmanship': 0.8}), (103, {'marksmanship': 1}), (104, {'marksmanship': 1}), (105, {'marksmanship': 0.5}), (106, {'marksmanship': 0.8}), (107, {'marksmanship': 1}), (108, {'marksmanship': 0.8}), (109, {'marksmanship': 1}), (110, {'marksmanship': 0.5}), (111, {'marksmanship': 0.5}), (112, {'marksmanship': 0.5}), (113, {'marksmanship': 0.5}), (114, {'marksmanship': 0.5}), (115, {'marksmanship': 0.5}), (116, {'marksmanship': 0.5}), (117, {'marksmanship': 0.5}), (118, {'marksmanship': 0.5}), (119, {'marksmanship': 1}), (120, {'marksmanship': 0.5}), (121, {'marksmanship': 0.5}), (122, {'marksmanship': 0.5}), (123, {'marksmanship': 1}), (124, {'marksmanship': 1}), (125, {'marksmanship': 0.8}), (126, {'marksmanship': 0.8}), (127, {'marksmanship': 1}), (128, {'marksmanship': 0.5}), (129, {'marksmanship': 0.5}), (130, {'marksmanship': 1}), (131, {'marksmanship': 1}), (132, {'marksmanship': 0.8}), (133, {'marksmanship': 0.5}), (134, {'marksmanship': 0.8}), (135, {'marksmanship': 0.8}), (136, {'marksmanship': 0.5}), (137, {'marksmanship': 0.5}), (138, {'marksmanship': 0.8}), (139, {'marksmanship': 1}), (140, {'marksmanship': 1}), (141, {'marksmanship': 1}), (142, {'marksmanship': 0.8}), (143, {'marksmanship': 0.8}), (144, {'marksmanship': 0.8}), (145, {'marksmanship': 0.8}), (146, {'marksmanship': 0.8}), (147, {'marksmanship': 1}), (148, {'marksmanship': 0.5}), (149, {'marksmanship': 0.8}), (150, {'marksmanship': 1}), (151, {'marksmanship': 1}), (152, {'marksmanship': 1}), (153, {'marksmanship': 1}), (154, {'marksmanship': 0.5}), (155, {'marksmanship': 1}), (156, {'marksmanship': 0.5}), (157, {'marksmanship': 0.8}), (158, {'marksmanship': 0.5}), (159, {'marksmanship': 0.8}), (160, {'marksmanship': 0.8}), (161, {'marksmanship': 1}), (162, {'marksmanship': 0.8}), (163, {'marksmanship': 0.5}), (164, {'marksmanship': 0.5}), (165, {'marksmanship': 1}), (166, {'marksmanship': 0.5}), (167, {'marksmanship': 0.5}), (168, {'marksmanship': 0.5}), (169, {'marksmanship': 1}), (170, {'marksmanship': 0.5}), (171, {'marksmanship': 0.8}), (172, {'marksmanship': 0.5}), (173, {'marksmanship': 0.8}), (174, {'marksmanship': 1}), (175, {'marksmanship': 0.8}), (176, {'marksmanship': 1}), (177, {'marksmanship': 0.8}), (178, {'marksmanship': 1}), (179, {'marksmanship': 0.5}), (180, {'marksmanship': 0.5}), (181, {'marksmanship': 0.8}), (182, {'marksmanship': 0.8}), (183, {'marksmanship': 0.5}), (184, {'marksmanship': 0.5}), (185, {'marksmanship': 0.8}), (186, {'marksmanship': 0.8}), (187, {'marksmanship': 0.5}), (188, {'marksmanship': 1}), (189, {'marksmanship': 0.5}), (190, {'marksmanship': 0.8}), (191, {'marksmanship': 1}), (192, {'marksmanship': 1}), (193, {'marksmanship': 1}), (194, {'marksmanship': 0.5}), (195, {'marksmanship': 1}), (196, {'marksmanship': 1}), (197, {'marksmanship': 1}), (198, {'marksmanship': 0.8}), (199, {'marksmanship': 0.5}), (200, {'marksmanship': 0.5}), (201, {'marksmanship': 1}), (202, {'marksmanship': 0.5}), (203, {'marksmanship': 1}), (204, {'marksmanship': 1}), (205, {'marksmanship': 0.8}), (206, {'marksmanship': 0.5}), (207, {'marksmanship': 1}), (208, {'marksmanship': 0.8}), (209, {'marksmanship': 0.8}), (210, {'marksmanship': 0.8}), (211, {'marksmanship': 1}), (212, {'marksmanship': 0.8}), (213, {'marksmanship': 0.8}), (214, {'marksmanship': 0.8}), (215, {'marksmanship': 1}), (216, {'marksmanship': 1}), (217, {'marksmanship': 0.5}), (218, {'marksmanship': 0.8}), (219, {'marksmanship': 1}), (220, {'marksmanship': 0.5}), (221, {'marksmanship': 0.8}), (222, {'marksmanship': 0.8}), (223, {'marksmanship': 0.8}), (224, {'marksmanship': 0.8}), (225, {'marksmanship': 0.8}), (226, {'marksmanship': 0.8}), (227, {'marksmanship': 0.8}), (228, {'marksmanship': 0.5}), (229, {'marksmanship': 0.5}), (230, {'marksmanship': 0.5}), (231, {'marksmanship': 0.5}), (232, {'marksmanship': 0.5}), (233, {'marksmanship': 0.8}), (234, {'marksmanship': 0.8}), (235, {'marksmanship': 1}), (236, {'marksmanship': 0.5}), (237, {'marksmanship': 1}), (238, {'marksmanship': 1}), (239, {'marksmanship': 0.5}), (240, {'marksmanship': 0.5}), (241, {'marksmanship': 0.5}), (242, {'marksmanship': 0.5}), (243, {'marksmanship': 1}), (244, {'marksmanship': 0.8}), (245, {'marksmanship': 1}), (246, {'marksmanship': 0.8}), (247, {'marksmanship': 0.5}), (248, {'marksmanship': 1}), (249, {'marksmanship': 0.5}), (250, {'marksmanship': 0.8}), (251, {'marksmanship': 0.8}), (252, {'marksmanship': 1}), (253, {'marksmanship': 0.8}), (254, {'marksmanship': 0.8}), (255, {'marksmanship': 1}), (256, {'marksmanship': 1}), (257, {'marksmanship': 0.8}), (258, {'marksmanship': 0.5}), (259, {'marksmanship': 0.5}), (260, {'marksmanship': 1}), (261, {'marksmanship': 0.8}), (262, {'marksmanship': 1}), (263, {'marksmanship': 0.5}), (264, {'marksmanship': 0.5}), (265, {'marksmanship': 1}), (266, {'marksmanship': 0.5}), (267, {'marksmanship': 0.8}), (268, {'marksmanship': 0.8}), (269, {'marksmanship': 0.5}), (270, {'marksmanship': 0.8}), (271, {'marksmanship': 1}), (272, {'marksmanship': 0.5}), (273, {'marksmanship': 1}), (274, {'marksmanship': 0.8}), (275, {'marksmanship': 0.8}), (276, {'marksmanship': 1}), (277, {'marksmanship': 0.5}), (278, {'marksmanship': 0.8}), (279, {'marksmanship': 1}), (280, {'marksmanship': 0.5}), (281, {'marksmanship': 0.8}), (282, {'marksmanship': 0.8}), (283, {'marksmanship': 0.8}), (284, {'marksmanship': 0.8}), (285, {'marksmanship': 1}), (286, {'marksmanship': 0.8}), (287, {'marksmanship': 0.8}), (288, {'marksmanship': 0.5}), (289, {'marksmanship': 1}), (290, {'marksmanship': 0.5}), (291, {'marksmanship': 0.8}), (292, {'marksmanship': 0.8}), (293, {'marksmanship': 1}), (294, {'marksmanship': 0.8}), (295, {'marksmanship': 0.8}), (296, {'marksmanship': 0.8}), (297, {'marksmanship': 0.8}), (298, {'marksmanship': 0.8}), (299, {'marksmanship': 1})]\n"
          ]
        }
      ]
    },
    {
      "cell_type": "markdown",
      "metadata": {
        "id": "RqM-AoaQQYzp"
      },
      "source": [
        "We then define the types of duels/truels in the paper. The first is how the paper defined a random duel, which is when the players are shuffled and the person who shoots first is random. A sequential duel is when the person who shoots first is decided, and a sequential truel is a truel where the shooting order is decided based off of marksmanship, from weakest to strongest."
      ]
    },
    {
      "cell_type": "code",
      "metadata": {
        "id": "3K01YqaoMeCM"
      },
      "source": [
        "def random_duel(G, players):\n",
        "  while len(players) == 2 :\n",
        "    random.shuffle(players)\n",
        "    a = players[0]\n",
        "    if flip(G.nodes[a][\"marksmanship\"]):\n",
        "      b = players.pop(1)\n",
        "      G.remove_node(b)"
      ],
      "execution_count": null,
      "outputs": []
    },
    {
      "cell_type": "code",
      "metadata": {
        "id": "CJGnHLn-0eJ_"
      },
      "source": [
        "def sequential_duel(G, players, marksmanships, starting_player = None):\n",
        "  players.sort(key=lambda player: marksmanships[player], reverse=False)\n",
        "\n",
        "  if starting_player == None:\n",
        "    [starting_player, other_player] = players\n",
        "  else:\n",
        "    if starting_player == players[0]:\n",
        "      other_player = players[1]\n",
        "    else:\n",
        "      other_player = players[0]\n",
        "\n",
        "  players = [starting_player, other_player]\n",
        "\n",
        "  # If marksmanships between players are equal, considered a tie\n",
        "  if marksmanships[starting_player] == marksmanships[other_player]:\n",
        "    #print(\"Tie in duel!\")\n",
        "    return players\n",
        "\n",
        "  shot_count = 0\n",
        "  while len(players) == 2 :\n",
        "    player = players[shot_count%2]\n",
        "    opponent = players[(shot_count+1)%2]\n",
        "    if flip(marksmanships[player]):\n",
        "      players.remove(opponent)\n",
        "      G.remove_node(opponent)\n",
        "  return players"
      ],
      "execution_count": null,
      "outputs": []
    },
    {
      "cell_type": "code",
      "metadata": {
        "id": "FyocVhVIQKSD"
      },
      "source": [
        "def sequential_truel(G, players, marksmanships):\n",
        "  players.sort(key=lambda player: marksmanships[player], reverse=False)\n",
        "  [c, b, a] = players\n",
        "\n",
        "  #If marksmanships between players are same, considered a tie\n",
        "  if marksmanships[c] == marksmanships[b] and marksmanships[c] == marksmanships[a]:\n",
        "    #print(\"Tie!\")\n",
        "    return players\n",
        "\n",
        "  #Formated x attack y (or z if x and y have same marksmanship)\n",
        "  strongest_opponent_strategy = {c: [a,b], b: [a,c], a : [b, c]}\n",
        "\n",
        "  shot_count = 0\n",
        "  while len(players) == 3:\n",
        "    player = players[shot_count%3]\n",
        "    #if player hits\n",
        "    if flip(marksmanships[player]):\n",
        "      opponent_strong = strongest_opponent_strategy[player][0]\n",
        "      opponent_weak = strongest_opponent_strategy[player][1]\n",
        "      if marksmanships[player] != marksmanships[opponent_strong]:\n",
        "        players.remove(opponent_strong)\n",
        "        G.remove_node(opponent_strong)\n",
        "      elif marksmanships[player] != marksmanships[opponent_weak]:\n",
        "        players.remove(opponent_weak)\n",
        "        G.remove_node(opponent_weak)\n",
        "    shot_count += 1\n",
        "    \n",
        "  #Goes into a seqeuntial duel after one player is eliminated\n",
        "  return sequential_duel(G, players, marksmanships, starting_player = players[shot_count%2])"
      ],
      "execution_count": null,
      "outputs": []
    },
    {
      "cell_type": "markdown",
      "metadata": {
        "id": "0vtC7DbrAYY1"
      },
      "source": [
        "This next code block tests the program so far by creating a Barabasi-Albert graph and performing one truel, with the output showing the resulting winner of the truel and their marksmanship."
      ]
    },
    {
      "cell_type": "code",
      "metadata": {
        "id": "RagF9UEDEv4O",
        "colab": {
          "base_uri": "https://localhost:8080/"
        },
        "outputId": "bd6c7a57-28c4-4be2-e7f7-74a92196a891"
      },
      "source": [
        "#Create BA graph and assign marksmanships\n",
        "G = barabasi_albert_graph(n = 300, k = 10)\n",
        "assign_marksmanships(G)\n",
        "marksmanships = dict(list(G.nodes(data='marksmanship')))\n",
        "\n",
        "#Get random player\n",
        "players = [random.choice(list(G.nodes()))]\n",
        "# if this player has at least two neighbors, go into a truel; otherwise, go into a duel\n",
        "if len(G[players[0]]) > 1:\n",
        "  players.extend(_random_subset(list(G[players[0]]), 2))\n",
        "  players = sequential_truel(G, players, marksmanships)\n",
        "else:\n",
        "  players.append(G[players[0]])\n",
        "  players = sequential_duel(G, players, marksmanships)\n",
        "\n",
        "marksmanships = list(G.nodes(data='marksmanship'))\n",
        "for player in players:\n",
        "  print(player, marksmanships[player][1])"
      ],
      "execution_count": null,
      "outputs": [
        {
          "output_type": "stream",
          "name": "stdout",
          "text": [
            "60 1\n",
            "52 0.8\n"
          ]
        }
      ]
    },
    {
      "cell_type": "markdown",
      "metadata": {
        "id": "ov24mKbRA9yb"
      },
      "source": [
        "Make this into a stand alone function that can be repeated. That way, we can establish an end-case before it is called. "
      ]
    },
    {
      "cell_type": "code",
      "metadata": {
        "id": "-JQcIm91I-iJ"
      },
      "source": [
        "# Choose a random player and put them in a duel/truel\n",
        "\n",
        "def make_player_compete(G, marksmanships, counter):\n",
        "  \"\"\"\n",
        "  Make a random player in G compete in either a duel or truel\n",
        "  depending on how many neighbors it has.\n",
        "  \"\"\"\n",
        "  #Get random player\n",
        "  players = [random.choice(list(G.nodes()))]\n",
        "  check_marksmanships(players, marksmanships)\n",
        "  # if this player has at least two neighbors, go into a truel; otherwise, go into a duel\n",
        "  if len(G[players[0]]) > 1:\n",
        "    players.extend(_random_subset(list(G[players[0]]), 2))\n",
        "    #print(\"Battle \" + str(counter) + \": \", players)\n",
        "    players = sequential_truel(G, players, marksmanships)\n",
        "  elif len(G[players[0]]) == 1:\n",
        "    players.extend(_random_subset(list(G[players[0]]), 1))\n",
        "    players = sequential_duel(G, players, marksmanships)\n",
        "  #Clear list after done\n",
        "  players = []"
      ],
      "execution_count": null,
      "outputs": []
    },
    {
      "cell_type": "markdown",
      "metadata": {
        "id": "cbgasu-vBiUs"
      },
      "source": [
        "Now this next function defines the end case. The end-case holds to be true if, for every node in the graph:\n",
        "- The node has either no neighbors, or\n",
        "- The neighbors of the node have the same marksmanship as the original node."
      ]
    },
    {
      "cell_type": "code",
      "metadata": {
        "id": "N9I8HRf4B4FS"
      },
      "source": [
        "def check_for_end_case(G):\n",
        "  \"\"\"\n",
        "  Returns True if end case as defined above is achieved. Returns False if not.\n",
        "  \"\"\"\n",
        "  marksmanships = dict(list(G.nodes(data='marksmanship')))\n",
        "  for n in G:\n",
        "    #Check if the node has at least one neighbor\n",
        "    neighbors = list(G[n])\n",
        "    if len(set(marksmanships[neighbor] for neighbor in neighbors)) > 1:\n",
        "      return False\n",
        "  return True"
      ],
      "execution_count": null,
      "outputs": []
    },
    {
      "cell_type": "markdown",
      "metadata": {
        "id": "-viMvvcGQ963"
      },
      "source": [
        "Finally, the Hunger Games function is a function that does everything we need to do. It creates a BA graph, assigns marksmanships to every node, and makes players compete until there is no way for players to compete anymore. The output shows each battle, showing the list of each truel and duel. Every time there is a tie, either in the truel or the duel, that is printed out.\n",
        "\n",
        "TODO: Currently, after about 130-140 battles, the program outputs an error that 'AtlasView' is unhashable. I am assuming this is referencing the \"marksmanships\" dictionary that is defined at the very beginning of the code; however, it has been referenced over 130 times and has done fine. Why does NetworkX think it is an AtlasView and how can we circumvent this?"
      ]
    },
    {
      "cell_type": "code",
      "metadata": {
        "colab": {
          "base_uri": "https://localhost:8080/"
        },
        "id": "vFnHCla6HQv4",
        "outputId": "86f718a3-745b-47a8-b350-ab83b55b7613"
      },
      "source": [
        "def hunger_games():\n",
        "  G = barabasi_albert_graph(n=300, k=10)\n",
        "  assign_marksmanships(G)\n",
        "  marksmanships = dict(list(G.nodes(data='marksmanship')))\n",
        "\n",
        "  finished = False\n",
        "  battle_count = 0\n",
        "  # While there are less than 100,000 battles or the end case is not reached\n",
        "  while (battle_count < 100000) and (finished != True):\n",
        "    battle_count += 1\n",
        "    make_player_compete(G, marksmanships, battle_count)\n",
        "    check_for_end_case(G)\n",
        "  \n",
        "  #Return the number of red, blue, and black players\n",
        "  reds = []\n",
        "  blues = []\n",
        "  blacks = []\n",
        "  for n in G:\n",
        "    if marksmanships[n] == 1:\n",
        "      reds.append(n)\n",
        "    elif marksmanships[n] == 0.8:\n",
        "      blues.append(n)\n",
        "    else:\n",
        "      blacks.append(n)\n",
        "  \n",
        "  return [len(reds), len(blues), len(blacks)]\n",
        "\n",
        "print('reds, blues, and blacks', hunger_games())"
      ],
      "execution_count": null,
      "outputs": [
        {
          "output_type": "stream",
          "name": "stdout",
          "text": [
            "reds, blues, and blacks [7, 30, 21]\n"
          ]
        }
      ]
    },
    {
      "cell_type": "markdown",
      "metadata": {
        "id": "du4QbMYvGDL_"
      },
      "source": [
        "Now, we can use Monte-Carlo experimentation to figure out the average number of red, blue, and black players, respectively, that will survive at the end of random conditions. We will loop through 10 random seeds, and for each starting condition, each one is run 10 times.\n",
        "\n",
        "(NOTE: Currently, this program runs through 10 million duels/truels and can take approximately a half-hour to run.)"
      ]
    },
    {
      "cell_type": "code",
      "metadata": {
        "id": "r_mPT2mmpbEB",
        "colab": {
          "base_uri": "https://localhost:8080/"
        },
        "outputId": "fef72de3-8041-4b0f-faa8-7ded52e1a110"
      },
      "source": [
        "def monte_carlo(seed, k):\n",
        "  \"\"\"\n",
        "  Runs the simulation k times for a random seed.\n",
        "  \"\"\"\n",
        "  np.random.seed(seed)\n",
        "  res = np.array([0.0,0.0,0.0])\n",
        "  for _ in range(k):\n",
        "    winners = np.array(hunger_games())\n",
        "    res += winners\n",
        "  return res/k\n",
        "\n",
        "#########\n",
        "res = np.array([0.0,0.0,0.0])\n",
        "for seed in range(10):\n",
        "  winners = monte_carlo(seed, 10)\n",
        "  res += winners\n",
        "res = (res/10).tolist()\n",
        "print(res)"
      ],
      "execution_count": null,
      "outputs": [
        {
          "output_type": "stream",
          "name": "stdout",
          "text": [
            "[8.959999999999999, 27.919999999999998, 20.45]\n"
          ]
        }
      ]
    },
    {
      "cell_type": "markdown",
      "metadata": {
        "id": "BMJTiKqCWrKi"
      },
      "source": [
        "Create a bar graph of the results, by percentage."
      ]
    },
    {
      "cell_type": "code",
      "metadata": {
        "colab": {
          "base_uri": "https://localhost:8080/",
          "height": 298
        },
        "id": "Jg6Lp0WBWg7d",
        "outputId": "7c006062-b198-4fa1-adc5-2b90171db858"
      },
      "source": [
        "reds, blues, blacks = res\n",
        "sum = reds + blues + blacks\n",
        "percent_reds = reds/sum * 100\n",
        "percent_blues = blues/sum * 100\n",
        "percent_blacks = blacks/sum * 100\n",
        "\n",
        "x = ['reds', 'blues', 'blacks']\n",
        "y = [percent_reds, percent_blues, percent_blacks]\n",
        "\n",
        "plt.bar(x,y)\n",
        "plt.ylabel('Percentage of Winners (%)')\n",
        "plt.title('Average Percentages of Each Player Remaining')"
      ],
      "execution_count": null,
      "outputs": [
        {
          "output_type": "execute_result",
          "data": {
            "text/plain": [
              "Text(0.5, 1.0, 'Average Percentages of Each Player Remaining')"
            ]
          },
          "metadata": {},
          "execution_count": 58
        },
        {
          "output_type": "display_data",
          "data": {
            "image/png": "[encoded data removed]",
            "text/plain": [
              "<Figure size 432x288 with 1 Axes>"
            ]
          },
          "metadata": {
            "needs_background": "light"
          }
        }
      ]
    },
    {
      "cell_type": "markdown",
      "metadata": {
        "id": "Aywfpjs3XvFz"
      },
      "source": [
        "The figure above shows that in truels where players are logical, red players, or the stronger players, are more likely to get eliminated, which lines up with the general conclusion of traditional game theory that stronger players will lose faster. On average, blue players and black players, with marksmanships `p = 0.8` and `p = 0.5`, respectively, make up approximately 84.4% of the players who survive the truels."
      ]
    }
  ]
}