{
  "nbformat": 4,
  "nbformat_minor": 0,
  "metadata": {
    "colab": {
      "name": "Hunger Games.ipynb",
      "provenance": [],
      "collapsed_sections": []
    },
    "kernelspec": {
      "name": "python3",
      "display_name": "Python 3"
    },
    "language_info": {
      "name": "python"
    }
  },
  "cells": [
    {
      "cell_type": "markdown",
      "metadata": {
        "id": "7V78NzTsBiPB"
      },
      "source": [
        "Methodology:\n",
        "Create a BA graph with 300 nodes. Then assign each player(node) a marksmanship, “which can take on one of the three\n",
        "possible values: [0.5, 0.8, 1]. Marksmanship levels are randomly distributed in the network with equal initial proportions...At each step in the game: one node is chosen randomly.\n",
        "- This chosen player, in turn, randomly selects two opponents among his\n",
        "  neighbour nodes, and the three players play a sequential truel with a\n",
        "  fixed shooting order.\n",
        "- However, if the initially chosen player has only one neighbour, a duel\n",
        "  occurs.\n",
        "- Moreover, players are assumed to be rational (i.e., they strictly follow\n",
        "  the strongest opponent strategy but never aim at a player of the same\n",
        "  type).\n",
        "- Finally, the losers of either a truel or a duel are removed from the\n",
        "  network, and if a node has no neighbours left, it will be reattached to\n",
        "  the network along the lines of the preferential-attachment algorithm that\n",
        "  was used to create the scale-free network.\n",
        "- In the unlikely event that no strongest player exists because all players\n",
        "  chosen have the same level of marksmanship, no duel or truel will be\n",
        "  played. In this case, a new node and its neighbours will be randomly\n",
        "  selected to continue the game.”\n",
        "\n",
        "The program will iterate until no more duels or truels can be played under\n",
        "these rules"
      ]
    },
    {
      "cell_type": "code",
      "metadata": {
        "id": "cSiVW5m9BqWf"
      },
      "source": [
        "import matplotlib.pyplot as plt\n",
        "import networkx as nx\n",
        "import numpy as np\n",
        "import seaborn as sns\n",
        "\n",
        "# modified version of the NetworkX implementation from\n",
        "# https://github.com/networkx/networkx/blob/master/networkx/generators/random_graphs.py\n",
        "# by Allen Downey\n",
        "import random\n",
        "from random import choices"
      ],
      "execution_count": null,
      "outputs": []
    },
    {
      "cell_type": "markdown",
      "metadata": {
        "id": "CQH0lHRkCity"
      },
      "source": [
        "# Functions that are useful for the HungerGames class\n",
        "(All of which were written by Allen Downey)"
      ]
    },
    {
      "cell_type": "code",
      "metadata": {
        "id": "gmiv3asaBoQ2"
      },
      "source": [
        "def flip(p):\n",
        "    return np.random.random() < p"
      ],
      "execution_count": null,
      "outputs": []
    },
    {
      "cell_type": "code",
      "metadata": {
        "id": "d_sKtfs1C79K"
      },
      "source": [
        "def adjacent_edges(nodes, halfk):\n",
        "    \"\"\"Yields edges between each node and `halfk` neighbors.\n",
        "\n",
        "    halfk: number of edges from each node\n",
        "    \"\"\"\n",
        "    n = len(nodes)\n",
        "    for i, u in enumerate(nodes):\n",
        "        for j in range(i+1, i+halfk+1):\n",
        "            v = nodes[j % n]\n",
        "            yield u, v"
      ],
      "execution_count": null,
      "outputs": []
    },
    {
      "cell_type": "code",
      "metadata": {
        "id": "cFcOO-y_C-P-"
      },
      "source": [
        "def make_ring_lattice(n, k):\n",
        "    \"\"\"Makes a ring lattice with `n` nodes and degree `k`.\n",
        "\n",
        "    Note: this only works correctly if k is even.\n",
        "\n",
        "    n: number of nodes\n",
        "    k: degree of each node\n",
        "    \"\"\"\n",
        "    G = nx.Graph()\n",
        "    nodes = range(n)\n",
        "    G.add_nodes_from(nodes)\n",
        "    G.add_edges_from(adjacent_edges(nodes, k//2))\n",
        "    return G"
      ],
      "execution_count": null,
      "outputs": []
    },
    {
      "cell_type": "code",
      "metadata": {
        "id": "TdzqDyHBDA0T"
      },
      "source": [
        "def _random_subset(repeated_nodes, k):\n",
        "    \"\"\"Select a random subset of nodes without repeating.\n",
        "\n",
        "    repeated_nodes: list of nodes\n",
        "    k: size of set\n",
        "\n",
        "    returns: set of nodes\n",
        "    \"\"\"\n",
        "    targets = set()\n",
        "    while len(targets) < k:\n",
        "        x = random.choice(repeated_nodes)\n",
        "        targets.add(x)\n",
        "    return targets\n"
      ],
      "execution_count": null,
      "outputs": []
    },
    {
      "cell_type": "code",
      "metadata": {
        "id": "lgumz2fKDEoQ"
      },
      "source": [
        "def barabasi_albert_graph(n, k, seed=None):\n",
        "    \"\"\"Constructs a BA graph.\n",
        "\n",
        "    n: number of nodes\n",
        "    k: number of edges for each new node\n",
        "    seed: random seen\n",
        "    \"\"\"\n",
        "    if seed is not None:\n",
        "        random.seed(seed)\n",
        "\n",
        "    G = nx.empty_graph(k)\n",
        "    targets = set(range(k))\n",
        "    repeated_nodes = []\n",
        "\n",
        "    for source in range(k, n):\n",
        "\n",
        "        G.add_edges_from(zip([source]*k, targets))\n",
        "\n",
        "        repeated_nodes.extend(targets)\n",
        "        repeated_nodes.extend([source] * k)\n",
        "\n",
        "        targets = _random_subset(repeated_nodes, k)\n",
        "\n",
        "    return G"
      ],
      "execution_count": null,
      "outputs": []
    },
    {
      "cell_type": "markdown",
      "metadata": {
        "id": "lf-As7clDFzi"
      },
      "source": [
        "# Our Model"
      ]
    },
    {
      "cell_type": "code",
      "metadata": {
        "id": "hacx8Kt9DFYe"
      },
      "source": [
        "class HungerGames:\n",
        "    def __init__(self, n, k, seed=None):\n",
        "        self.k = k\n",
        "        self.G = barabasi_albert_graph(n=n, k=k, seed=seed)\n",
        "        self.assign_marksmanships()\n",
        "        self.marksmanships = dict(list(self.G.nodes(data='marksmanship')))\n",
        "        # Temp checker\n",
        "        reds = []\n",
        "        blues = []\n",
        "        blacks = []\n",
        "        for n in self.G:\n",
        "            if self.marksmanships[n] == 1:\n",
        "                reds.append(n)\n",
        "            elif self.marksmanships[n] == 0.8:\n",
        "                blues.append(n)\n",
        "            else:\n",
        "                blacks.append(n)\n",
        "        print(\"reds:\", str(len(reds)))\n",
        "        print(\"blues:\", str(len(blues)))\n",
        "        print(\"blacks:\", str(len(blacks)))\n",
        "\n",
        "\n",
        "  def assign_marksmanships(self):\n",
        "      \"\"\"Assigns marksmanships to each player in the graph.\n",
        "      \"\"\"\n",
        "      list_of_marksmanships = [0.5, 0.8, 1]\n",
        "      for node in self.G.nodes():\n",
        "          self.G.nodes[node][\"marksmanship\"] = random.choice(list_of_marksmanships)\n",
        "\n",
        "\n",
        "  def random_duel(self, players):\n",
        "      \"\"\"Sets a duel between two players with a random shooting order.\n",
        "\n",
        "      players: list of two players competing in duel\n",
        "      \"\"\"\n",
        "      if self.marksmanships[players[0]] == self.marksmanships[players[1]]:\n",
        "          return players\n",
        "\n",
        "      self.duel_count += 1\n",
        "      while len(players) == 2 :\n",
        "          random.shuffle(players)\n",
        "          starting_player = players[0]\n",
        "          if flip(self.marksmanships[starting_player]):\n",
        "            other_player = players[1]\n",
        "            players.remove(other_player)\n",
        "            self.G.remove_node(other_player)\n",
        "\n",
        "      return players\n",
        "\n",
        "\n",
        "  def sequential_duel(self, players, starting_player = None):\n",
        "      \"\"\"Sets a duel between two players with a set shooting order.\n",
        "\n",
        "      players: list of two players competing in duel\n",
        "      starting_player: player who starts the duel\n",
        "      \"\"\"\n",
        "      players.sort(key=lambda player: self.marksmanships[player], reverse=False)\n",
        "      if starting_player == None:\n",
        "          [starting_player, other_player] = players\n",
        "      else:\n",
        "          if starting_player == players[0]:\n",
        "              other_player = players[1]\n",
        "          else:\n",
        "              other_player = players[0]\n",
        "      players = [starting_player, other_player]\n",
        "\n",
        "      # If marksmanships between players are equal, considered a tie\n",
        "      if self.marksmanships[starting_player] == self.marksmanships[other_player]:\n",
        "          #print(\"Tie in duel!\")\n",
        "          return players\n",
        "\n",
        "      shot_count = 0\n",
        "      while len(players) == 2 :\n",
        "          player = players[shot_count%2]\n",
        "          opponent = players[(shot_count+1)%2]\n",
        "          if flip(self.marksmanships[player]):\n",
        "              players.remove(opponent)\n",
        "              self.G.remove_node(opponent)\n",
        "      return players\n",
        "\n",
        "  def sequential_truel(self, players):\n",
        "      \"\"\"Sets a truel between three players with a set shooting order.\n",
        "\n",
        "      players: list of three players competing in truel\n",
        "      \"\"\"\n",
        "      players.sort(key=lambda player: self.marksmanships[player], reverse=True)\n",
        "      [c, b, a] = players\n",
        "\n",
        "      #If marksmanships between players are same, considered a tie\n",
        "      if self.marksmanships[c] == self.marksmanships[b] and self.marksmanships[c] == self.marksmanships[a]:\n",
        "          #print(\"Tie!\")\n",
        "          return players\n",
        "\n",
        "      self.truel_count += 1\n",
        "      #Formated x attack y (or z if x and y have same marksmanship)\n",
        "      strongest_opponent_strategy = {c: [a,b], b: [a,c], a : [b, c]}\n",
        "\n",
        "      shot_count = 0\n",
        "      while len(players) == 3:\n",
        "          player = players[shot_count%3]\n",
        "          #if player hits\n",
        "          if flip(self.marksmanships[player]):\n",
        "            opponent_strong = strongest_opponent_strategy[player][0]\n",
        "            opponent_weak = strongest_opponent_strategy[player][1]\n",
        "            if self.marksmanships[player] != self.marksmanships[opponent_strong]:\n",
        "              players.remove(opponent_strong)\n",
        "              self.G.remove_node(opponent_strong)\n",
        "            # elif self.marksmanships[player] != self.marksmanships[opponent_weak]:\n",
        "            #   players.remove(opponent_weak)\n",
        "            #   self.G.remove_node(opponent_weak)\n",
        "      shot_count += 1\n",
        "\n",
        "      #Goes into a seqeuntial duel after one player is eliminated\n",
        "      players = self.sequential_duel(players, starting_player = players[shot_count%2])\n",
        "      #print(\"After truel + duel \", players)\n",
        "      return players\n",
        "\n",
        "  def step(self):\n",
        "    \"\"\"\n",
        "    Make a random player in G compete in either a duel or truel\n",
        "    depending on how many neighbors it has.\n",
        "    \"\"\"\n",
        "    #Get random player\n",
        "    players = [random.choice(list(self.G.nodes()))]\n",
        "    # if this player has at least two neighbors, go into a truel; otherwise, go into a duel\n",
        "    if len(self.G[players[0]]) > 1:\n",
        "      players.extend(_random_subset(list(self.G[players[0]]), 2))\n",
        "      #print(\"Truel: \", players)\n",
        "      players = self.sequential_truel(players)\n",
        "\n",
        "    elif len(self.G[players[0]]) == 1:\n",
        "      players.extend(_random_subset(list(self.G[players[0]]), 1))\n",
        "      #print(\"Duel: \", players)\n",
        "      players = self.random_duel(players)\n",
        "\n",
        "    #Clear list after done\n",
        "    players = []\n",
        "\n",
        "  def reattachment_check(self):\n",
        "    \"\"\"Preferential attachment of isolated nodes back to the graph.\n",
        "\n",
        "    G : graph\n",
        "    \"\"\"\n",
        "    degrees = list(self.G.degree())\n",
        "    nodes, degs = map(list,zip(*degrees))\n",
        "\n",
        "    k = min([self.k, len(nodes) - 1])\n",
        "\n",
        "    if k != 0:\n",
        "      for node in self.G.nodes:\n",
        "        if len(self.G[node]) == 0:\n",
        "          start_node = node\n",
        "          start_node_index = nodes.index(start_node)\n",
        "          # print(start_node_index)\n",
        "\n",
        "          del nodes[start_node_index]\n",
        "          del degs[start_node_index]\n",
        "\n",
        "          end_nodes = choices(nodes, degs, k = k)\n",
        "          print(end_nodes)\n",
        "          edges = [(start_node, end_nodes[0])]\n",
        "          #print(\"Edges\" + str(edges))\n",
        "\n",
        "          self.G.add_edges_from(edges)\n",
        "\n",
        "  def check_for_end_case(self):\n",
        "    \"\"\"\n",
        "    Returns True if end case as defined above is achieved. Returns False if not.\n",
        "    \"\"\"\n",
        "    for n in self.G:\n",
        "      #Check if the node has at least one neighbor\n",
        "      neighbors = list(self.G[n])\n",
        "      if len(set(self.marksmanships[neighbor] for neighbor in neighbors)) > 1:\n",
        "        return False\n",
        "    return True\n",
        "\n",
        "  def loop(self):\n",
        "    self.truel_count =  0\n",
        "    self.duel_count = 0\n",
        "    finished = False\n",
        "    battle_count = 0\n",
        "    # While there are less than 100,000 battles or the end case is not reached\n",
        "    while (battle_count < 100000) and (finished != True):\n",
        "      battle_count += 1\n",
        "      self.reattachment_check()\n",
        "      self.step()\n",
        "      self.check_for_end_case()\n",
        "\n",
        "    #Return the number of red, blue, and black players\n",
        "    reds = []\n",
        "    blues = []\n",
        "    blacks = []\n",
        "    for n in self.G:\n",
        "      if self.marksmanships[n] == 1:\n",
        "        reds.append(n)\n",
        "      elif self.marksmanships[n] == 0.8:\n",
        "        blues.append(n)\n",
        "      else:\n",
        "        blacks.append(n)\n",
        "\n",
        "    return [len(reds), len(blues), len(blacks)]"
      ],
      "execution_count": null,
      "outputs": []
    },
    {
      "cell_type": "markdown",
      "metadata": {
        "id": "75qZM6hmDOTP"
      },
      "source": [
        "# Monte Carlo Simulation"
      ]
    },
    {
      "cell_type": "code",
      "metadata": {
        "id": "Ca9toW2uDSQc"
      },
      "source": [
        "def monte_carlo(n, k, seed, runs):\n",
        "  \"\"\"\n",
        "  Runs the simulation k times for a random seed.\n",
        "  \"\"\"\n",
        "  res = np.array([0.0,0.0,0.0])\n",
        "  for run in range(runs):\n",
        "    print(\"run:\" +str(run))\n",
        "    simulation = HungerGames(n, k, seed)\n",
        "    winners = np.array(simulation.loop())\n",
        "    res += winners\n",
        "  return res/k"
      ],
      "execution_count": null,
      "outputs": []
    },
    {
      "cell_type": "code",
      "metadata": {
        "id": "gh8UHSg6Dfyd"
      },
      "source": [
        "res = np.array([0.0,0.0,0.0])\n",
        "for seed in range(10):\n",
        "  winners = monte_carlo(300, 10, seed, 10)\n",
        "  res += winners\n",
        "res = (res/10).tolist()"
      ],
      "execution_count": null,
      "outputs": []
    },
    {
      "cell_type": "markdown",
      "metadata": {
        "id": "NMoQXh6tDk62"
      },
      "source": [
        "# Plotting Results"
      ]
    },
    {
      "cell_type": "code",
      "metadata": {
        "id": "kX99WTrYDola"
      },
      "source": [
        "reds, blues, blacks = res\n",
        "sum = reds + blues + blacks\n",
        "percent_reds = reds/sum * 100\n",
        "percent_blues = blues/sum * 100\n",
        "percent_blacks = blacks/sum * 100\n",
        "\n",
        "x = ['reds', 'blues', 'blacks']\n",
        "y = [percent_reds, percent_blues, percent_blacks]"
      ],
      "execution_count": null,
      "outputs": []
    },
    {
      "cell_type": "code",
      "metadata": {
        "id": "y7XjqIaADr9i"
      },
      "source": [
        "plt.bar(x,y)\n",
        "plt.ylabel('Percentage of Winners (%)')\n",
        "plt.title('Average Percentages of Each Player Remaining')\n",
        "plt.show()"
      ],
      "execution_count": null,
      "outputs": []
    }
  ]
}